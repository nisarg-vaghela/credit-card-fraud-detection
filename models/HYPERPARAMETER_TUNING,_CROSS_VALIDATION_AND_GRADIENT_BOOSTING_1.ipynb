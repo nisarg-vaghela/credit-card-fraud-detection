{
 "cells": [
  {
   "cell_type": "markdown",
   "metadata": {},
   "source": [
    "# HYPERPARAMETER TUNING, CROSS VALIDATION AND GRADIENT BOOSTING"
   ]
  },
  {
   "cell_type": "markdown",
   "metadata": {},
   "source": [
    "Installing and Importing Libraries and Packages."
   ]
  },
  {
   "cell_type": "code",
   "execution_count": 1,
   "metadata": {},
   "outputs": [],
   "source": [
    "#!pip install catboost\n",
    "#!pip install lightgbm"
   ]
  },
  {
   "cell_type": "code",
   "execution_count": 1,
   "metadata": {},
   "outputs": [],
   "source": [
    "import pandas as pd\n",
    "import numpy as np\n",
    "import pickle "
   ]
  },
  {
   "cell_type": "code",
   "execution_count": 6,
   "metadata": {},
   "outputs": [],
   "source": [
    "from catboost import CatBoostClassifier"
   ]
  },
  {
   "cell_type": "code",
   "execution_count": 4,
   "metadata": {},
   "outputs": [],
   "source": [
    "from lightgbm import LGBMClassifier"
   ]
  },
  {
   "cell_type": "code",
   "execution_count": 7,
   "metadata": {},
   "outputs": [],
   "source": [
    "from collections import Counter"
   ]
  },
  {
   "cell_type": "code",
   "execution_count": 8,
   "metadata": {},
   "outputs": [],
   "source": [
    "from sklearn.metrics import precision_score, recall_score, f1_score, roc_auc_score, accuracy_score\n",
    "from imblearn.over_sampling import SMOTE\n",
    "from imblearn.under_sampling import RandomUnderSampler\n",
    "from sklearn.datasets import make_classification\n",
    "from sklearn import metrics"
   ]
  },
  {
   "cell_type": "code",
   "execution_count": 9,
   "metadata": {},
   "outputs": [],
   "source": [
    "from imblearn.over_sampling import RandomOverSampler"
   ]
  },
  {
   "cell_type": "code",
   "execution_count": 10,
   "metadata": {},
   "outputs": [],
   "source": [
    "from sklearn.model_selection import train_test_split"
   ]
  },
  {
   "cell_type": "code",
   "execution_count": 13,
   "metadata": {},
   "outputs": [],
   "source": [
    "import matplotlib.pyplot as plt"
   ]
  },
  {
   "cell_type": "code",
   "execution_count": 14,
   "metadata": {},
   "outputs": [],
   "source": [
    "from sklearn.model_selection import train_test_split"
   ]
  },
  {
   "cell_type": "code",
   "execution_count": 15,
   "metadata": {},
   "outputs": [],
   "source": [
    "from sklearn.model_selection import GridSearchCV"
   ]
  },
  {
   "cell_type": "code",
   "execution_count": 16,
   "metadata": {},
   "outputs": [],
   "source": [
    "from sklearn.model_selection import RandomizedSearchCV"
   ]
  },
  {
   "cell_type": "code",
   "execution_count": 17,
   "metadata": {},
   "outputs": [],
   "source": [
    "from sklearn.ensemble import RandomForestClassifier"
   ]
  },
  {
   "cell_type": "code",
   "execution_count": 30,
   "metadata": {},
   "outputs": [],
   "source": [
    "from sklearn.model_selection import StratifiedKFold , KFold"
   ]
  },
  {
   "cell_type": "code",
   "execution_count": 25,
   "metadata": {},
   "outputs": [],
   "source": [
    "from sklearn.ensemble import RandomForestClassifier"
   ]
  },
  {
   "cell_type": "markdown",
   "metadata": {},
   "source": [
    "Reading dataset "
   ]
  },
  {
   "cell_type": "code",
   "execution_count": 2,
   "metadata": {},
   "outputs": [],
   "source": [
    " df= pd.read_pickle('C:/Users/LENOVO/Desktop/dfmod.pickle')"
   ]
  },
  {
   "cell_type": "code",
   "execution_count": 3,
   "metadata": {},
   "outputs": [
    {
     "data": {
      "text/html": [
       "<div>\n",
       "<style scoped>\n",
       "    .dataframe tbody tr th:only-of-type {\n",
       "        vertical-align: middle;\n",
       "    }\n",
       "\n",
       "    .dataframe tbody tr th {\n",
       "        vertical-align: top;\n",
       "    }\n",
       "\n",
       "    .dataframe thead th {\n",
       "        text-align: right;\n",
       "    }\n",
       "</style>\n",
       "<table border=\"1\" class=\"dataframe\">\n",
       "  <thead>\n",
       "    <tr style=\"text-align: right;\">\n",
       "      <th></th>\n",
       "      <th>Time</th>\n",
       "      <th>V1</th>\n",
       "      <th>V2</th>\n",
       "      <th>V3</th>\n",
       "      <th>V4</th>\n",
       "      <th>V5</th>\n",
       "      <th>V6</th>\n",
       "      <th>V7</th>\n",
       "      <th>V8</th>\n",
       "      <th>V9</th>\n",
       "      <th>...</th>\n",
       "      <th>V25</th>\n",
       "      <th>V26</th>\n",
       "      <th>V27</th>\n",
       "      <th>V28</th>\n",
       "      <th>Amount</th>\n",
       "      <th>Class</th>\n",
       "      <th>average</th>\n",
       "      <th>min</th>\n",
       "      <th>time_difference</th>\n",
       "      <th>cond</th>\n",
       "    </tr>\n",
       "  </thead>\n",
       "  <tbody>\n",
       "    <tr>\n",
       "      <th>0</th>\n",
       "      <td>0.0</td>\n",
       "      <td>-0.694243</td>\n",
       "      <td>-0.044061</td>\n",
       "      <td>1.672767</td>\n",
       "      <td>0.973370</td>\n",
       "      <td>-0.245110</td>\n",
       "      <td>0.347088</td>\n",
       "      <td>0.193676</td>\n",
       "      <td>0.082640</td>\n",
       "      <td>0.331130</td>\n",
       "      <td>...</td>\n",
       "      <td>0.246591</td>\n",
       "      <td>-0.392188</td>\n",
       "      <td>0.330885</td>\n",
       "      <td>-0.063776</td>\n",
       "      <td>0.244953</td>\n",
       "      <td>0</td>\n",
       "      <td>-1.732107</td>\n",
       "      <td>0.000000</td>\n",
       "      <td>0.575964</td>\n",
       "      <td>1.414228</td>\n",
       "    </tr>\n",
       "    <tr>\n",
       "      <th>1</th>\n",
       "      <td>0.0</td>\n",
       "      <td>0.608485</td>\n",
       "      <td>0.161188</td>\n",
       "      <td>0.109809</td>\n",
       "      <td>0.316534</td>\n",
       "      <td>0.043486</td>\n",
       "      <td>-0.061799</td>\n",
       "      <td>-0.063702</td>\n",
       "      <td>0.071256</td>\n",
       "      <td>-0.232485</td>\n",
       "      <td>...</td>\n",
       "      <td>0.320699</td>\n",
       "      <td>0.261051</td>\n",
       "      <td>-0.022257</td>\n",
       "      <td>0.044611</td>\n",
       "      <td>-0.342477</td>\n",
       "      <td>0</td>\n",
       "      <td>-1.732079</td>\n",
       "      <td>0.000000</td>\n",
       "      <td>-0.373369</td>\n",
       "      <td>-1.414238</td>\n",
       "    </tr>\n",
       "    <tr>\n",
       "      <th>2</th>\n",
       "      <td>1.0</td>\n",
       "      <td>-0.693501</td>\n",
       "      <td>-0.811556</td>\n",
       "      <td>1.169468</td>\n",
       "      <td>0.268243</td>\n",
       "      <td>-0.364563</td>\n",
       "      <td>1.351473</td>\n",
       "      <td>0.639770</td>\n",
       "      <td>0.207374</td>\n",
       "      <td>-1.378650</td>\n",
       "      <td>...</td>\n",
       "      <td>-0.628525</td>\n",
       "      <td>-0.288464</td>\n",
       "      <td>-0.137136</td>\n",
       "      <td>-0.181014</td>\n",
       "      <td>1.160662</td>\n",
       "      <td>0</td>\n",
       "      <td>-1.732107</td>\n",
       "      <td>0.016667</td>\n",
       "      <td>0.575964</td>\n",
       "      <td>1.414228</td>\n",
       "    </tr>\n",
       "    <tr>\n",
       "      <th>3</th>\n",
       "      <td>1.0</td>\n",
       "      <td>-0.493327</td>\n",
       "      <td>-0.112155</td>\n",
       "      <td>1.182516</td>\n",
       "      <td>-0.609706</td>\n",
       "      <td>-0.007466</td>\n",
       "      <td>0.936170</td>\n",
       "      <td>0.192068</td>\n",
       "      <td>0.316017</td>\n",
       "      <td>-1.262480</td>\n",
       "      <td>...</td>\n",
       "      <td>1.241902</td>\n",
       "      <td>-0.460235</td>\n",
       "      <td>0.155392</td>\n",
       "      <td>0.186190</td>\n",
       "      <td>0.140525</td>\n",
       "      <td>0</td>\n",
       "      <td>-1.732138</td>\n",
       "      <td>0.016667</td>\n",
       "      <td>-0.373369</td>\n",
       "      <td>1.414228</td>\n",
       "    </tr>\n",
       "    <tr>\n",
       "      <th>4</th>\n",
       "      <td>2.0</td>\n",
       "      <td>-0.591331</td>\n",
       "      <td>0.531549</td>\n",
       "      <td>1.021413</td>\n",
       "      <td>0.284667</td>\n",
       "      <td>-0.295008</td>\n",
       "      <td>0.072019</td>\n",
       "      <td>0.479297</td>\n",
       "      <td>-0.226503</td>\n",
       "      <td>0.744323</td>\n",
       "      <td>...</td>\n",
       "      <td>-0.395192</td>\n",
       "      <td>1.041591</td>\n",
       "      <td>0.543610</td>\n",
       "      <td>0.651810</td>\n",
       "      <td>-0.073410</td>\n",
       "      <td>0</td>\n",
       "      <td>-1.732031</td>\n",
       "      <td>0.033333</td>\n",
       "      <td>0.575964</td>\n",
       "      <td>-0.000005</td>\n",
       "    </tr>\n",
       "    <tr>\n",
       "      <th>...</th>\n",
       "      <td>...</td>\n",
       "      <td>...</td>\n",
       "      <td>...</td>\n",
       "      <td>...</td>\n",
       "      <td>...</td>\n",
       "      <td>...</td>\n",
       "      <td>...</td>\n",
       "      <td>...</td>\n",
       "      <td>...</td>\n",
       "      <td>...</td>\n",
       "      <td>...</td>\n",
       "      <td>...</td>\n",
       "      <td>...</td>\n",
       "      <td>...</td>\n",
       "      <td>...</td>\n",
       "      <td>...</td>\n",
       "      <td>...</td>\n",
       "      <td>...</td>\n",
       "      <td>...</td>\n",
       "      <td>...</td>\n",
       "      <td>...</td>\n",
       "    </tr>\n",
       "    <tr>\n",
       "      <th>284793</th>\n",
       "      <td>172784.0</td>\n",
       "      <td>1.041271</td>\n",
       "      <td>-0.106103</td>\n",
       "      <td>-0.789309</td>\n",
       "      <td>0.165692</td>\n",
       "      <td>-0.006310</td>\n",
       "      <td>-0.545343</td>\n",
       "      <td>0.013780</td>\n",
       "      <td>-0.098984</td>\n",
       "      <td>0.396314</td>\n",
       "      <td>...</td>\n",
       "      <td>-0.605444</td>\n",
       "      <td>0.417035</td>\n",
       "      <td>-0.200245</td>\n",
       "      <td>-0.227422</td>\n",
       "      <td>-0.342517</td>\n",
       "      <td>0</td>\n",
       "      <td>1.732006</td>\n",
       "      <td>2879.733333</td>\n",
       "      <td>-0.373369</td>\n",
       "      <td>-1.414238</td>\n",
       "    </tr>\n",
       "    <tr>\n",
       "      <th>284794</th>\n",
       "      <td>172785.0</td>\n",
       "      <td>0.061420</td>\n",
       "      <td>0.563807</td>\n",
       "      <td>-0.360089</td>\n",
       "      <td>-0.526228</td>\n",
       "      <td>0.818914</td>\n",
       "      <td>-0.177101</td>\n",
       "      <td>0.656956</td>\n",
       "      <td>0.096367</td>\n",
       "      <td>-0.185735</td>\n",
       "      <td>...</td>\n",
       "      <td>-0.836145</td>\n",
       "      <td>0.257286</td>\n",
       "      <td>0.539938</td>\n",
       "      <td>0.208444</td>\n",
       "      <td>-0.342477</td>\n",
       "      <td>0</td>\n",
       "      <td>1.732019</td>\n",
       "      <td>2879.750000</td>\n",
       "      <td>-0.373369</td>\n",
       "      <td>-1.414238</td>\n",
       "    </tr>\n",
       "    <tr>\n",
       "      <th>284795</th>\n",
       "      <td>172786.0</td>\n",
       "      <td>-6.065796</td>\n",
       "      <td>6.099240</td>\n",
       "      <td>-6.486155</td>\n",
       "      <td>-1.459611</td>\n",
       "      <td>-3.886551</td>\n",
       "      <td>-1.956668</td>\n",
       "      <td>-3.975603</td>\n",
       "      <td>6.116489</td>\n",
       "      <td>1.742542</td>\n",
       "      <td>...</td>\n",
       "      <td>2.756309</td>\n",
       "      <td>0.518481</td>\n",
       "      <td>2.337865</td>\n",
       "      <td>2.495496</td>\n",
       "      <td>-0.350154</td>\n",
       "      <td>0</td>\n",
       "      <td>1.732033</td>\n",
       "      <td>2879.766667</td>\n",
       "      <td>-0.373369</td>\n",
       "      <td>-1.414238</td>\n",
       "    </tr>\n",
       "    <tr>\n",
       "      <th>284796</th>\n",
       "      <td>172787.0</td>\n",
       "      <td>-0.374125</td>\n",
       "      <td>-0.033342</td>\n",
       "      <td>1.342142</td>\n",
       "      <td>-0.521632</td>\n",
       "      <td>0.629034</td>\n",
       "      <td>0.794466</td>\n",
       "      <td>0.019665</td>\n",
       "      <td>0.246886</td>\n",
       "      <td>0.532298</td>\n",
       "      <td>...</td>\n",
       "      <td>-1.163711</td>\n",
       "      <td>-0.819663</td>\n",
       "      <td>0.169637</td>\n",
       "      <td>-0.162157</td>\n",
       "      <td>-0.254121</td>\n",
       "      <td>0</td>\n",
       "      <td>1.732054</td>\n",
       "      <td>2879.783333</td>\n",
       "      <td>-0.373369</td>\n",
       "      <td>-0.000005</td>\n",
       "    </tr>\n",
       "    <tr>\n",
       "      <th>284797</th>\n",
       "      <td>172788.0</td>\n",
       "      <td>0.980009</td>\n",
       "      <td>-0.182418</td>\n",
       "      <td>-2.143167</td>\n",
       "      <td>-0.393965</td>\n",
       "      <td>1.905808</td>\n",
       "      <td>2.275280</td>\n",
       "      <td>-0.239939</td>\n",
       "      <td>0.593135</td>\n",
       "      <td>0.393631</td>\n",
       "      <td>...</td>\n",
       "      <td>0.509801</td>\n",
       "      <td>-0.181200</td>\n",
       "      <td>0.011035</td>\n",
       "      <td>-0.080462</td>\n",
       "      <td>-0.081846</td>\n",
       "      <td>0</td>\n",
       "      <td>1.732142</td>\n",
       "      <td>2879.800000</td>\n",
       "      <td>0.575964</td>\n",
       "      <td>-0.000005</td>\n",
       "    </tr>\n",
       "  </tbody>\n",
       "</table>\n",
       "<p>284798 rows × 35 columns</p>\n",
       "</div>"
      ],
      "text/plain": [
       "            Time        V1        V2        V3        V4        V5        V6  \\\n",
       "0            0.0 -0.694243 -0.044061  1.672767  0.973370 -0.245110  0.347088   \n",
       "1            0.0  0.608485  0.161188  0.109809  0.316534  0.043486 -0.061799   \n",
       "2            1.0 -0.693501 -0.811556  1.169468  0.268243 -0.364563  1.351473   \n",
       "3            1.0 -0.493327 -0.112155  1.182516 -0.609706 -0.007466  0.936170   \n",
       "4            2.0 -0.591331  0.531549  1.021413  0.284667 -0.295008  0.072019   \n",
       "...          ...       ...       ...       ...       ...       ...       ...   \n",
       "284793  172784.0  1.041271 -0.106103 -0.789309  0.165692 -0.006310 -0.545343   \n",
       "284794  172785.0  0.061420  0.563807 -0.360089 -0.526228  0.818914 -0.177101   \n",
       "284795  172786.0 -6.065796  6.099240 -6.486155 -1.459611 -3.886551 -1.956668   \n",
       "284796  172787.0 -0.374125 -0.033342  1.342142 -0.521632  0.629034  0.794466   \n",
       "284797  172788.0  0.980009 -0.182418 -2.143167 -0.393965  1.905808  2.275280   \n",
       "\n",
       "              V7        V8        V9  ...       V25       V26       V27  \\\n",
       "0       0.193676  0.082640  0.331130  ...  0.246591 -0.392188  0.330885   \n",
       "1      -0.063702  0.071256 -0.232485  ...  0.320699  0.261051 -0.022257   \n",
       "2       0.639770  0.207374 -1.378650  ... -0.628525 -0.288464 -0.137136   \n",
       "3       0.192068  0.316017 -1.262480  ...  1.241902 -0.460235  0.155392   \n",
       "4       0.479297 -0.226503  0.744323  ... -0.395192  1.041591  0.543610   \n",
       "...          ...       ...       ...  ...       ...       ...       ...   \n",
       "284793  0.013780 -0.098984  0.396314  ... -0.605444  0.417035 -0.200245   \n",
       "284794  0.656956  0.096367 -0.185735  ... -0.836145  0.257286  0.539938   \n",
       "284795 -3.975603  6.116489  1.742542  ...  2.756309  0.518481  2.337865   \n",
       "284796  0.019665  0.246886  0.532298  ... -1.163711 -0.819663  0.169637   \n",
       "284797 -0.239939  0.593135  0.393631  ...  0.509801 -0.181200  0.011035   \n",
       "\n",
       "             V28    Amount  Class   average          min  time_difference  \\\n",
       "0      -0.063776  0.244953      0 -1.732107     0.000000         0.575964   \n",
       "1       0.044611 -0.342477      0 -1.732079     0.000000        -0.373369   \n",
       "2      -0.181014  1.160662      0 -1.732107     0.016667         0.575964   \n",
       "3       0.186190  0.140525      0 -1.732138     0.016667        -0.373369   \n",
       "4       0.651810 -0.073410      0 -1.732031     0.033333         0.575964   \n",
       "...          ...       ...    ...       ...          ...              ...   \n",
       "284793 -0.227422 -0.342517      0  1.732006  2879.733333        -0.373369   \n",
       "284794  0.208444 -0.342477      0  1.732019  2879.750000        -0.373369   \n",
       "284795  2.495496 -0.350154      0  1.732033  2879.766667        -0.373369   \n",
       "284796 -0.162157 -0.254121      0  1.732054  2879.783333        -0.373369   \n",
       "284797 -0.080462 -0.081846      0  1.732142  2879.800000         0.575964   \n",
       "\n",
       "            cond  \n",
       "0       1.414228  \n",
       "1      -1.414238  \n",
       "2       1.414228  \n",
       "3       1.414228  \n",
       "4      -0.000005  \n",
       "...          ...  \n",
       "284793 -1.414238  \n",
       "284794 -1.414238  \n",
       "284795 -1.414238  \n",
       "284796 -0.000005  \n",
       "284797 -0.000005  \n",
       "\n",
       "[284798 rows x 35 columns]"
      ]
     },
     "execution_count": 3,
     "metadata": {},
     "output_type": "execute_result"
    }
   ],
   "source": [
    "df"
   ]
  },
  {
   "cell_type": "code",
   "execution_count": 5,
   "metadata": {},
   "outputs": [],
   "source": [
    "X = df.drop('Class', axis=1)\n",
    "y = df['Class']"
   ]
  },
  {
   "cell_type": "markdown",
   "metadata": {},
   "source": [
    "### Preprocessing and modifying the dataset using SMOTE and RandomOverSampler. "
   ]
  },
  {
   "cell_type": "code",
   "execution_count": 11,
   "metadata": {},
   "outputs": [
    {
     "name": "stdout",
     "output_type": "stream",
     "text": [
      "Original dataset shape Counter({0: 284306, 1: 492})\n",
      "Resampled dataset shape Counter({0: 284306, 1: 284306})\n",
      "Original dataset shape Counter({0: 284306, 1: 492})\n",
      "Resampled dataset shape Counter({0: 492, 1: 492})\n"
     ]
    }
   ],
   "source": [
    "print('Original dataset shape %s' % Counter(y))\n",
    "ros = RandomOverSampler(random_state=42)\n",
    "X_over, y_over = ros.fit_resample(X, y)\n",
    "print('Resampled dataset shape %s' % Counter(y_over))\n",
    "# Slit into train and test datasets\n",
    "X_train_over, X_test_over, y_train_over, y_test_over = train_test_split(X_over, y_over, test_size=0.25, random_state=42)\n",
    "\n",
    "\n",
    "print('Original dataset shape %s' % Counter(y))\n",
    "rus = RandomUnderSampler(random_state=42)\n",
    "X_under, y_under = rus.fit_resample(X, y)\n",
    "print('Resampled dataset shape %s' % Counter(y_under))\n",
    "# Slit into train and test datasets\n",
    "X_train_under, X_test_under, y_train_under, y_test_under = train_test_split(X_under, y_under, test_size=0.25, random_state=42)\n"
   ]
  },
  {
   "cell_type": "code",
   "execution_count": 12,
   "metadata": {},
   "outputs": [
    {
     "name": "stdout",
     "output_type": "stream",
     "text": [
      "Original dataset shape Counter({0: 284306, 1: 492})\n",
      "Resampled dataset shape Counter({0: 284306, 1: 284306})\n"
     ]
    }
   ],
   "source": [
    "print('Original dataset shape %s' % Counter(y))\n",
    "smote = SMOTE(random_state=42)\n",
    "X_smote, y_smote = smote.fit_resample(X, y)\n",
    "print('Resampled dataset shape %s' % Counter(y_smote))\n",
    "# Slit into train and test datasets\n",
    "X_train_smote, X_test_smote, y_train_smote, y_test_smote = train_test_split(X_smote, y_smote, test_size=0.25, random_state=42)"
   ]
  },
  {
   "cell_type": "markdown",
   "metadata": {},
   "source": [
    "# Model using Hyperparameter tuning "
   ]
  },
  {
   "cell_type": "markdown",
   "metadata": {},
   "source": [
    "We can conclude from the above results that our datasets when trained on model such as Random forest classifier, CatBoost, lightgbm in the same particular manner gave better result compared to others .<br>\n",
    "Future Steps:- <br>\n",
    "1. HyperParameter tuning for the given 3 models \n",
    "2. Cross Validation\n",
    "3. Gradient Boosting \n",
    "4. Building a scratch neural network algorithm (optional)"
   ]
  },
  {
   "cell_type": "markdown",
   "metadata": {},
   "source": [
    "# Training the model <br>\n",
    "### 1. LightGBM \n",
    "### 2. CatBoost"
   ]
  },
  {
   "cell_type": "code",
   "execution_count": 34,
   "metadata": {},
   "outputs": [
    {
     "data": {
      "text/plain": [
       "LGBMClassifier(max_leaves=50, num_iterations=200)"
      ]
     },
     "execution_count": 34,
     "metadata": {},
     "output_type": "execute_result"
    }
   ],
   "source": [
    "params = {'learning_rate':0.1,\n",
    "         'max_leaves':50,\n",
    "         'num_iterations':200}\n",
    "\n",
    "lgb = LGBMClassifier(**params)\n",
    "lgb.fit(X_train_over, y_train_over)"
   ]
  },
  {
   "cell_type": "code",
   "execution_count": 35,
   "metadata": {},
   "outputs": [
    {
     "name": "stdout",
     "output_type": "stream",
     "text": [
      "LGBM accuracy:  99.99015145652923 %\n",
      "LGBM auc:  0.9999012498941964\n"
     ]
    }
   ],
   "source": [
    "preds = lgb.predict(X_test_over)\n",
    "print('LGBM accuracy: ', accuracy_score(y_test_over, preds)*100, '%')\n",
    "\n",
    "print('LGBM auc: ', roc_auc_score(y_test_over, preds))"
   ]
  },
  {
   "cell_type": "markdown",
   "metadata": {},
   "source": [
    "### CatBoost Training "
   ]
  },
  {
   "cell_type": "code",
   "execution_count": 22,
   "metadata": {},
   "outputs": [
    {
     "name": "stdout",
     "output_type": "stream",
     "text": [
      "0:\tlearn: 0.5184430\ttotal: 324ms\tremaining: 2m 41s\n",
      "1:\tlearn: 0.3870226\ttotal: 602ms\tremaining: 2m 29s\n",
      "2:\tlearn: 0.3001482\ttotal: 891ms\tremaining: 2m 27s\n",
      "3:\tlearn: 0.2393290\ttotal: 1.17s\tremaining: 2m 24s\n",
      "4:\tlearn: 0.1991369\ttotal: 1.41s\tremaining: 2m 19s\n",
      "5:\tlearn: 0.1698623\ttotal: 1.61s\tremaining: 2m 12s\n",
      "6:\tlearn: 0.1505844\ttotal: 1.85s\tremaining: 2m 10s\n",
      "7:\tlearn: 0.1300295\ttotal: 2.15s\tremaining: 2m 12s\n",
      "8:\tlearn: 0.1123360\ttotal: 2.44s\tremaining: 2m 13s\n",
      "9:\tlearn: 0.1025747\ttotal: 2.74s\tremaining: 2m 14s\n",
      "10:\tlearn: 0.0913259\ttotal: 3.07s\tremaining: 2m 16s\n",
      "11:\tlearn: 0.0857059\ttotal: 3.34s\tremaining: 2m 15s\n",
      "12:\tlearn: 0.0752719\ttotal: 3.6s\tremaining: 2m 14s\n",
      "13:\tlearn: 0.0705484\ttotal: 3.92s\tremaining: 2m 16s\n",
      "14:\tlearn: 0.0667200\ttotal: 4.17s\tremaining: 2m 14s\n",
      "15:\tlearn: 0.0609895\ttotal: 4.42s\tremaining: 2m 13s\n",
      "16:\tlearn: 0.0569472\ttotal: 4.72s\tremaining: 2m 14s\n",
      "17:\tlearn: 0.0544744\ttotal: 5.05s\tremaining: 2m 15s\n",
      "18:\tlearn: 0.0518708\ttotal: 5.34s\tremaining: 2m 15s\n",
      "19:\tlearn: 0.0497004\ttotal: 5.61s\tremaining: 2m 14s\n",
      "20:\tlearn: 0.0457317\ttotal: 5.88s\tremaining: 2m 14s\n",
      "21:\tlearn: 0.0434031\ttotal: 6.09s\tremaining: 2m 12s\n",
      "22:\tlearn: 0.0420546\ttotal: 6.33s\tremaining: 2m 11s\n",
      "23:\tlearn: 0.0388337\ttotal: 6.66s\tremaining: 2m 12s\n",
      "24:\tlearn: 0.0375915\ttotal: 6.93s\tremaining: 2m 11s\n",
      "25:\tlearn: 0.0360653\ttotal: 7.21s\tremaining: 2m 11s\n",
      "26:\tlearn: 0.0343040\ttotal: 7.47s\tremaining: 2m 10s\n",
      "27:\tlearn: 0.0334686\ttotal: 7.72s\tremaining: 2m 10s\n",
      "28:\tlearn: 0.0323564\ttotal: 7.98s\tremaining: 2m 9s\n",
      "29:\tlearn: 0.0313055\ttotal: 8.23s\tremaining: 2m 9s\n",
      "30:\tlearn: 0.0305552\ttotal: 8.48s\tremaining: 2m 8s\n",
      "31:\tlearn: 0.0300438\ttotal: 8.69s\tremaining: 2m 7s\n",
      "32:\tlearn: 0.0293306\ttotal: 8.96s\tremaining: 2m 6s\n",
      "33:\tlearn: 0.0285936\ttotal: 9.16s\tremaining: 2m 5s\n",
      "34:\tlearn: 0.0277694\ttotal: 9.42s\tremaining: 2m 5s\n",
      "35:\tlearn: 0.0263270\ttotal: 9.7s\tremaining: 2m 5s\n",
      "36:\tlearn: 0.0254996\ttotal: 10s\tremaining: 2m 5s\n",
      "37:\tlearn: 0.0249301\ttotal: 10.3s\tremaining: 2m 4s\n",
      "38:\tlearn: 0.0243520\ttotal: 10.6s\tremaining: 2m 4s\n",
      "39:\tlearn: 0.0237876\ttotal: 10.8s\tremaining: 2m 4s\n",
      "40:\tlearn: 0.0233405\ttotal: 11.1s\tremaining: 2m 4s\n",
      "41:\tlearn: 0.0228657\ttotal: 11.4s\tremaining: 2m 4s\n",
      "42:\tlearn: 0.0212879\ttotal: 11.7s\tremaining: 2m 4s\n",
      "43:\tlearn: 0.0207066\ttotal: 11.9s\tremaining: 2m 3s\n",
      "44:\tlearn: 0.0204307\ttotal: 12.2s\tremaining: 2m 3s\n",
      "45:\tlearn: 0.0200011\ttotal: 12.5s\tremaining: 2m 3s\n",
      "46:\tlearn: 0.0196510\ttotal: 12.7s\tremaining: 2m 2s\n",
      "47:\tlearn: 0.0193949\ttotal: 13s\tremaining: 2m 2s\n",
      "48:\tlearn: 0.0189890\ttotal: 13.3s\tremaining: 2m 2s\n",
      "49:\tlearn: 0.0186302\ttotal: 13.5s\tremaining: 2m 1s\n",
      "50:\tlearn: 0.0182581\ttotal: 13.7s\tremaining: 2m\n",
      "51:\tlearn: 0.0173571\ttotal: 14s\tremaining: 2m\n",
      "52:\tlearn: 0.0170781\ttotal: 14.2s\tremaining: 1m 59s\n",
      "53:\tlearn: 0.0166810\ttotal: 14.4s\tremaining: 1m 59s\n",
      "54:\tlearn: 0.0164657\ttotal: 14.7s\tremaining: 1m 58s\n",
      "55:\tlearn: 0.0162180\ttotal: 14.9s\tremaining: 1m 58s\n",
      "56:\tlearn: 0.0158169\ttotal: 15.2s\tremaining: 1m 57s\n",
      "57:\tlearn: 0.0155003\ttotal: 15.5s\tremaining: 1m 57s\n",
      "58:\tlearn: 0.0153491\ttotal: 15.7s\tremaining: 1m 57s\n",
      "59:\tlearn: 0.0150559\ttotal: 16s\tremaining: 1m 57s\n",
      "60:\tlearn: 0.0148560\ttotal: 16.2s\tremaining: 1m 56s\n",
      "61:\tlearn: 0.0146612\ttotal: 16.5s\tremaining: 1m 56s\n",
      "62:\tlearn: 0.0144903\ttotal: 16.7s\tremaining: 1m 55s\n",
      "63:\tlearn: 0.0142252\ttotal: 17s\tremaining: 1m 55s\n",
      "64:\tlearn: 0.0140021\ttotal: 17.2s\tremaining: 1m 55s\n",
      "65:\tlearn: 0.0138326\ttotal: 17.5s\tremaining: 1m 54s\n",
      "66:\tlearn: 0.0135995\ttotal: 17.7s\tremaining: 1m 54s\n",
      "67:\tlearn: 0.0133815\ttotal: 17.9s\tremaining: 1m 53s\n",
      "68:\tlearn: 0.0132033\ttotal: 18.2s\tremaining: 1m 53s\n",
      "69:\tlearn: 0.0130338\ttotal: 18.5s\tremaining: 1m 53s\n",
      "70:\tlearn: 0.0128330\ttotal: 18.7s\tremaining: 1m 53s\n",
      "71:\tlearn: 0.0127025\ttotal: 19s\tremaining: 1m 52s\n",
      "72:\tlearn: 0.0124599\ttotal: 19.2s\tremaining: 1m 52s\n",
      "73:\tlearn: 0.0123004\ttotal: 19.5s\tremaining: 1m 52s\n",
      "74:\tlearn: 0.0121345\ttotal: 20s\tremaining: 1m 53s\n",
      "75:\tlearn: 0.0120074\ttotal: 20.2s\tremaining: 1m 52s\n",
      "76:\tlearn: 0.0118071\ttotal: 20.5s\tremaining: 1m 52s\n",
      "77:\tlearn: 0.0115377\ttotal: 20.8s\tremaining: 1m 52s\n",
      "78:\tlearn: 0.0113041\ttotal: 21.1s\tremaining: 1m 52s\n",
      "79:\tlearn: 0.0111002\ttotal: 21.4s\tremaining: 1m 52s\n",
      "80:\tlearn: 0.0109418\ttotal: 21.6s\tremaining: 1m 51s\n",
      "81:\tlearn: 0.0108582\ttotal: 22s\tremaining: 1m 52s\n",
      "82:\tlearn: 0.0106401\ttotal: 22.3s\tremaining: 1m 52s\n",
      "83:\tlearn: 0.0105327\ttotal: 22.6s\tremaining: 1m 51s\n",
      "84:\tlearn: 0.0102699\ttotal: 22.8s\tremaining: 1m 51s\n",
      "85:\tlearn: 0.0102004\ttotal: 23s\tremaining: 1m 50s\n",
      "86:\tlearn: 0.0101422\ttotal: 23.3s\tremaining: 1m 50s\n",
      "87:\tlearn: 0.0099988\ttotal: 23.5s\tremaining: 1m 50s\n",
      "88:\tlearn: 0.0098509\ttotal: 23.8s\tremaining: 1m 49s\n",
      "89:\tlearn: 0.0097099\ttotal: 24.1s\tremaining: 1m 49s\n",
      "90:\tlearn: 0.0096052\ttotal: 24.5s\tremaining: 1m 50s\n",
      "91:\tlearn: 0.0095218\ttotal: 24.9s\tremaining: 1m 50s\n",
      "92:\tlearn: 0.0094912\ttotal: 25.3s\tremaining: 1m 50s\n",
      "93:\tlearn: 0.0094481\ttotal: 25.6s\tremaining: 1m 50s\n",
      "94:\tlearn: 0.0093594\ttotal: 25.9s\tremaining: 1m 50s\n",
      "95:\tlearn: 0.0092409\ttotal: 26.1s\tremaining: 1m 49s\n",
      "96:\tlearn: 0.0091477\ttotal: 26.4s\tremaining: 1m 49s\n",
      "97:\tlearn: 0.0090590\ttotal: 26.7s\tremaining: 1m 49s\n",
      "98:\tlearn: 0.0089547\ttotal: 26.9s\tremaining: 1m 48s\n",
      "99:\tlearn: 0.0085800\ttotal: 27.2s\tremaining: 1m 48s\n",
      "100:\tlearn: 0.0084669\ttotal: 27.5s\tremaining: 1m 48s\n",
      "101:\tlearn: 0.0082530\ttotal: 27.7s\tremaining: 1m 48s\n",
      "102:\tlearn: 0.0080948\ttotal: 28s\tremaining: 1m 48s\n",
      "103:\tlearn: 0.0080411\ttotal: 28.5s\tremaining: 1m 48s\n",
      "104:\tlearn: 0.0079381\ttotal: 28.8s\tremaining: 1m 48s\n",
      "105:\tlearn: 0.0078224\ttotal: 29.1s\tremaining: 1m 48s\n",
      "106:\tlearn: 0.0077387\ttotal: 29.3s\tremaining: 1m 47s\n",
      "107:\tlearn: 0.0076940\ttotal: 29.6s\tremaining: 1m 47s\n",
      "108:\tlearn: 0.0076090\ttotal: 29.8s\tremaining: 1m 47s\n",
      "109:\tlearn: 0.0075583\ttotal: 30.1s\tremaining: 1m 46s\n",
      "110:\tlearn: 0.0074793\ttotal: 30.4s\tremaining: 1m 46s\n",
      "111:\tlearn: 0.0074233\ttotal: 30.7s\tremaining: 1m 46s\n",
      "112:\tlearn: 0.0073173\ttotal: 31.1s\tremaining: 1m 46s\n",
      "113:\tlearn: 0.0072765\ttotal: 31.3s\tremaining: 1m 46s\n",
      "114:\tlearn: 0.0072208\ttotal: 31.6s\tremaining: 1m 45s\n",
      "115:\tlearn: 0.0071316\ttotal: 31.9s\tremaining: 1m 45s\n",
      "116:\tlearn: 0.0070350\ttotal: 32.1s\tremaining: 1m 45s\n",
      "117:\tlearn: 0.0069580\ttotal: 32.4s\tremaining: 1m 44s\n",
      "118:\tlearn: 0.0068730\ttotal: 32.7s\tremaining: 1m 44s\n",
      "119:\tlearn: 0.0068397\ttotal: 32.9s\tremaining: 1m 44s\n",
      "120:\tlearn: 0.0067914\ttotal: 33.2s\tremaining: 1m 43s\n",
      "121:\tlearn: 0.0067425\ttotal: 33.4s\tremaining: 1m 43s\n",
      "122:\tlearn: 0.0066646\ttotal: 33.7s\tremaining: 1m 43s\n",
      "123:\tlearn: 0.0065650\ttotal: 33.9s\tremaining: 1m 42s\n",
      "124:\tlearn: 0.0064894\ttotal: 34.1s\tremaining: 1m 42s\n",
      "125:\tlearn: 0.0063292\ttotal: 34.4s\tremaining: 1m 42s\n",
      "126:\tlearn: 0.0062905\ttotal: 34.7s\tremaining: 1m 41s\n",
      "127:\tlearn: 0.0061933\ttotal: 35s\tremaining: 1m 41s\n",
      "128:\tlearn: 0.0061191\ttotal: 35.3s\tremaining: 1m 41s\n",
      "129:\tlearn: 0.0060385\ttotal: 35.5s\tremaining: 1m 41s\n",
      "130:\tlearn: 0.0059830\ttotal: 35.8s\tremaining: 1m 40s\n",
      "131:\tlearn: 0.0059167\ttotal: 36.1s\tremaining: 1m 40s\n",
      "132:\tlearn: 0.0058885\ttotal: 36.3s\tremaining: 1m 40s\n",
      "133:\tlearn: 0.0058372\ttotal: 36.5s\tremaining: 1m 39s\n",
      "134:\tlearn: 0.0058031\ttotal: 36.8s\tremaining: 1m 39s\n",
      "135:\tlearn: 0.0057492\ttotal: 37s\tremaining: 1m 39s\n",
      "136:\tlearn: 0.0057279\ttotal: 37.2s\tremaining: 1m 38s\n",
      "137:\tlearn: 0.0056484\ttotal: 37.4s\tremaining: 1m 38s\n",
      "138:\tlearn: 0.0056290\ttotal: 37.7s\tremaining: 1m 37s\n",
      "139:\tlearn: 0.0056187\ttotal: 37.9s\tremaining: 1m 37s\n",
      "140:\tlearn: 0.0055795\ttotal: 38.2s\tremaining: 1m 37s\n",
      "141:\tlearn: 0.0055163\ttotal: 38.4s\tremaining: 1m 36s\n",
      "142:\tlearn: 0.0054856\ttotal: 38.6s\tremaining: 1m 36s\n",
      "143:\tlearn: 0.0054432\ttotal: 38.9s\tremaining: 1m 36s\n",
      "144:\tlearn: 0.0053903\ttotal: 39.1s\tremaining: 1m 35s\n",
      "145:\tlearn: 0.0053498\ttotal: 39.4s\tremaining: 1m 35s\n",
      "146:\tlearn: 0.0052545\ttotal: 39.7s\tremaining: 1m 35s\n",
      "147:\tlearn: 0.0052313\ttotal: 39.9s\tremaining: 1m 34s\n",
      "148:\tlearn: 0.0052085\ttotal: 40.2s\tremaining: 1m 34s\n",
      "149:\tlearn: 0.0051740\ttotal: 40.4s\tremaining: 1m 34s\n",
      "150:\tlearn: 0.0051482\ttotal: 40.6s\tremaining: 1m 33s\n",
      "151:\tlearn: 0.0050829\ttotal: 40.9s\tremaining: 1m 33s\n",
      "152:\tlearn: 0.0050645\ttotal: 41.2s\tremaining: 1m 33s\n",
      "153:\tlearn: 0.0050522\ttotal: 41.4s\tremaining: 1m 33s\n",
      "154:\tlearn: 0.0049592\ttotal: 41.7s\tremaining: 1m 32s\n",
      "155:\tlearn: 0.0049083\ttotal: 42s\tremaining: 1m 32s\n",
      "156:\tlearn: 0.0048970\ttotal: 42.2s\tremaining: 1m 32s\n",
      "157:\tlearn: 0.0048712\ttotal: 42.4s\tremaining: 1m 31s\n",
      "158:\tlearn: 0.0048381\ttotal: 42.7s\tremaining: 1m 31s\n",
      "159:\tlearn: 0.0047906\ttotal: 43s\tremaining: 1m 31s\n",
      "160:\tlearn: 0.0047565\ttotal: 43.2s\tremaining: 1m 30s\n",
      "161:\tlearn: 0.0047326\ttotal: 43.5s\tremaining: 1m 30s\n",
      "162:\tlearn: 0.0047219\ttotal: 43.7s\tremaining: 1m 30s\n",
      "163:\tlearn: 0.0046920\ttotal: 43.9s\tremaining: 1m 30s\n",
      "164:\tlearn: 0.0046748\ttotal: 44.2s\tremaining: 1m 29s\n",
      "165:\tlearn: 0.0046291\ttotal: 44.4s\tremaining: 1m 29s\n",
      "166:\tlearn: 0.0046183\ttotal: 44.6s\tremaining: 1m 29s\n",
      "167:\tlearn: 0.0045462\ttotal: 45s\tremaining: 1m 28s\n",
      "168:\tlearn: 0.0045262\ttotal: 45.2s\tremaining: 1m 28s\n",
      "169:\tlearn: 0.0045033\ttotal: 45.4s\tremaining: 1m 28s\n",
      "170:\tlearn: 0.0044728\ttotal: 45.7s\tremaining: 1m 27s\n",
      "171:\tlearn: 0.0044266\ttotal: 45.9s\tremaining: 1m 27s\n",
      "172:\tlearn: 0.0043921\ttotal: 46.1s\tremaining: 1m 27s\n",
      "173:\tlearn: 0.0043642\ttotal: 46.4s\tremaining: 1m 26s\n",
      "174:\tlearn: 0.0043518\ttotal: 46.7s\tremaining: 1m 26s\n",
      "175:\tlearn: 0.0042914\ttotal: 46.9s\tremaining: 1m 26s\n",
      "176:\tlearn: 0.0042079\ttotal: 47.1s\tremaining: 1m 26s\n",
      "177:\tlearn: 0.0041620\ttotal: 47.4s\tremaining: 1m 25s\n",
      "178:\tlearn: 0.0041114\ttotal: 47.7s\tremaining: 1m 25s\n",
      "179:\tlearn: 0.0040872\ttotal: 47.9s\tremaining: 1m 25s\n",
      "180:\tlearn: 0.0040048\ttotal: 48.2s\tremaining: 1m 24s\n",
      "181:\tlearn: 0.0039666\ttotal: 48.4s\tremaining: 1m 24s\n",
      "182:\tlearn: 0.0039454\ttotal: 48.7s\tremaining: 1m 24s\n",
      "183:\tlearn: 0.0039000\ttotal: 49s\tremaining: 1m 24s\n",
      "184:\tlearn: 0.0038409\ttotal: 49.2s\tremaining: 1m 23s\n",
      "185:\tlearn: 0.0038008\ttotal: 49.6s\tremaining: 1m 23s\n",
      "186:\tlearn: 0.0037693\ttotal: 49.8s\tremaining: 1m 23s\n",
      "187:\tlearn: 0.0037313\ttotal: 50.1s\tremaining: 1m 23s\n",
      "188:\tlearn: 0.0037076\ttotal: 50.4s\tremaining: 1m 22s\n",
      "189:\tlearn: 0.0036822\ttotal: 50.6s\tremaining: 1m 22s\n",
      "190:\tlearn: 0.0036194\ttotal: 50.9s\tremaining: 1m 22s\n",
      "191:\tlearn: 0.0036033\ttotal: 51.1s\tremaining: 1m 22s\n",
      "192:\tlearn: 0.0035547\ttotal: 51.5s\tremaining: 1m 21s\n",
      "193:\tlearn: 0.0035260\ttotal: 51.7s\tremaining: 1m 21s\n",
      "194:\tlearn: 0.0035163\ttotal: 52s\tremaining: 1m 21s\n",
      "195:\tlearn: 0.0035088\ttotal: 52.2s\tremaining: 1m 20s\n",
      "196:\tlearn: 0.0034763\ttotal: 52.5s\tremaining: 1m 20s\n",
      "197:\tlearn: 0.0034532\ttotal: 52.8s\tremaining: 1m 20s\n",
      "198:\tlearn: 0.0034449\ttotal: 53.1s\tremaining: 1m 20s\n",
      "199:\tlearn: 0.0034120\ttotal: 53.4s\tremaining: 1m 20s\n",
      "200:\tlearn: 0.0033967\ttotal: 53.6s\tremaining: 1m 19s\n",
      "201:\tlearn: 0.0033789\ttotal: 53.9s\tremaining: 1m 19s\n",
      "202:\tlearn: 0.0033788\ttotal: 54s\tremaining: 1m 19s\n",
      "203:\tlearn: 0.0033788\ttotal: 54.2s\tremaining: 1m 18s\n",
      "204:\tlearn: 0.0033788\ttotal: 54.4s\tremaining: 1m 18s\n",
      "205:\tlearn: 0.0033788\ttotal: 54.6s\tremaining: 1m 17s\n",
      "206:\tlearn: 0.0033788\ttotal: 54.7s\tremaining: 1m 17s\n",
      "207:\tlearn: 0.0033788\ttotal: 54.9s\tremaining: 1m 17s\n",
      "208:\tlearn: 0.0033788\ttotal: 55.1s\tremaining: 1m 16s\n",
      "209:\tlearn: 0.0033788\ttotal: 55.3s\tremaining: 1m 16s\n",
      "210:\tlearn: 0.0033788\ttotal: 55.4s\tremaining: 1m 15s\n",
      "211:\tlearn: 0.0033788\ttotal: 55.6s\tremaining: 1m 15s\n",
      "212:\tlearn: 0.0033788\ttotal: 55.8s\tremaining: 1m 15s\n",
      "213:\tlearn: 0.0033788\ttotal: 56s\tremaining: 1m 14s\n",
      "214:\tlearn: 0.0033788\ttotal: 56.2s\tremaining: 1m 14s\n",
      "215:\tlearn: 0.0033788\ttotal: 56.5s\tremaining: 1m 14s\n",
      "216:\tlearn: 0.0033788\ttotal: 56.8s\tremaining: 1m 14s\n",
      "217:\tlearn: 0.0033306\ttotal: 57.1s\tremaining: 1m 13s\n",
      "218:\tlearn: 0.0033306\ttotal: 57.3s\tremaining: 1m 13s\n",
      "219:\tlearn: 0.0033306\ttotal: 57.6s\tremaining: 1m 13s\n",
      "220:\tlearn: 0.0033306\ttotal: 57.8s\tremaining: 1m 12s\n",
      "221:\tlearn: 0.0033306\ttotal: 58.1s\tremaining: 1m 12s\n",
      "222:\tlearn: 0.0033306\ttotal: 58.3s\tremaining: 1m 12s\n",
      "223:\tlearn: 0.0033306\ttotal: 58.5s\tremaining: 1m 12s\n",
      "224:\tlearn: 0.0033306\ttotal: 58.7s\tremaining: 1m 11s\n",
      "225:\tlearn: 0.0033305\ttotal: 58.9s\tremaining: 1m 11s\n",
      "226:\tlearn: 0.0033305\ttotal: 59.2s\tremaining: 1m 11s\n",
      "227:\tlearn: 0.0033305\ttotal: 59.4s\tremaining: 1m 10s\n",
      "228:\tlearn: 0.0033305\ttotal: 59.6s\tremaining: 1m 10s\n",
      "229:\tlearn: 0.0033305\ttotal: 59.8s\tremaining: 1m 10s\n",
      "230:\tlearn: 0.0033305\ttotal: 1m\tremaining: 1m 9s\n",
      "231:\tlearn: 0.0033305\ttotal: 1m\tremaining: 1m 9s\n",
      "232:\tlearn: 0.0033305\ttotal: 1m\tremaining: 1m 9s\n",
      "233:\tlearn: 0.0033305\ttotal: 1m\tremaining: 1m 8s\n",
      "234:\tlearn: 0.0033305\ttotal: 1m\tremaining: 1m 8s\n",
      "235:\tlearn: 0.0033305\ttotal: 1m 1s\tremaining: 1m 8s\n",
      "236:\tlearn: 0.0033305\ttotal: 1m 1s\tremaining: 1m 8s\n",
      "237:\tlearn: 0.0033305\ttotal: 1m 1s\tremaining: 1m 7s\n",
      "238:\tlearn: 0.0033305\ttotal: 1m 1s\tremaining: 1m 7s\n",
      "239:\tlearn: 0.0033305\ttotal: 1m 2s\tremaining: 1m 7s\n",
      "240:\tlearn: 0.0033305\ttotal: 1m 2s\tremaining: 1m 6s\n",
      "241:\tlearn: 0.0033304\ttotal: 1m 2s\tremaining: 1m 6s\n",
      "242:\tlearn: 0.0033304\ttotal: 1m 2s\tremaining: 1m 6s\n",
      "243:\tlearn: 0.0033304\ttotal: 1m 2s\tremaining: 1m 6s\n",
      "244:\tlearn: 0.0033304\ttotal: 1m 3s\tremaining: 1m 5s\n",
      "245:\tlearn: 0.0033304\ttotal: 1m 3s\tremaining: 1m 5s\n",
      "246:\tlearn: 0.0033304\ttotal: 1m 3s\tremaining: 1m 5s\n",
      "247:\tlearn: 0.0033304\ttotal: 1m 3s\tremaining: 1m 4s\n",
      "248:\tlearn: 0.0033304\ttotal: 1m 4s\tremaining: 1m 4s\n",
      "249:\tlearn: 0.0033304\ttotal: 1m 4s\tremaining: 1m 4s\n",
      "250:\tlearn: 0.0033304\ttotal: 1m 4s\tremaining: 1m 4s\n",
      "251:\tlearn: 0.0033304\ttotal: 1m 4s\tremaining: 1m 3s\n",
      "252:\tlearn: 0.0033304\ttotal: 1m 4s\tremaining: 1m 3s\n",
      "253:\tlearn: 0.0033303\ttotal: 1m 5s\tremaining: 1m 3s\n",
      "254:\tlearn: 0.0033303\ttotal: 1m 5s\tremaining: 1m 2s\n",
      "255:\tlearn: 0.0033303\ttotal: 1m 5s\tremaining: 1m 2s\n",
      "256:\tlearn: 0.0033303\ttotal: 1m 5s\tremaining: 1m 2s\n",
      "257:\tlearn: 0.0033303\ttotal: 1m 6s\tremaining: 1m 1s\n",
      "258:\tlearn: 0.0033303\ttotal: 1m 6s\tremaining: 1m 1s\n",
      "259:\tlearn: 0.0033303\ttotal: 1m 6s\tremaining: 1m 1s\n",
      "260:\tlearn: 0.0033303\ttotal: 1m 6s\tremaining: 1m 1s\n",
      "261:\tlearn: 0.0033303\ttotal: 1m 7s\tremaining: 1m\n",
      "262:\tlearn: 0.0033302\ttotal: 1m 7s\tremaining: 1m\n",
      "263:\tlearn: 0.0033302\ttotal: 1m 7s\tremaining: 1m\n",
      "264:\tlearn: 0.0033302\ttotal: 1m 7s\tremaining: 1m\n",
      "265:\tlearn: 0.0033302\ttotal: 1m 8s\tremaining: 59.8s\n",
      "266:\tlearn: 0.0033302\ttotal: 1m 8s\tremaining: 59.5s\n",
      "267:\tlearn: 0.0033302\ttotal: 1m 8s\tremaining: 59.2s\n",
      "268:\tlearn: 0.0033302\ttotal: 1m 8s\tremaining: 58.9s\n",
      "269:\tlearn: 0.0033302\ttotal: 1m 8s\tremaining: 58.6s\n",
      "270:\tlearn: 0.0033302\ttotal: 1m 8s\tremaining: 58.3s\n",
      "271:\tlearn: 0.0033302\ttotal: 1m 9s\tremaining: 58s\n",
      "272:\tlearn: 0.0033302\ttotal: 1m 9s\tremaining: 57.7s\n",
      "273:\tlearn: 0.0033302\ttotal: 1m 9s\tremaining: 57.4s\n",
      "274:\tlearn: 0.0033302\ttotal: 1m 9s\tremaining: 57.1s\n",
      "275:\tlearn: 0.0033302\ttotal: 1m 9s\tremaining: 56.7s\n",
      "276:\tlearn: 0.0033302\ttotal: 1m 10s\tremaining: 56.5s\n",
      "277:\tlearn: 0.0033302\ttotal: 1m 10s\tremaining: 56.2s\n",
      "278:\tlearn: 0.0033302\ttotal: 1m 10s\tremaining: 55.9s\n",
      "279:\tlearn: 0.0033301\ttotal: 1m 10s\tremaining: 55.5s\n",
      "280:\tlearn: 0.0033301\ttotal: 1m 10s\tremaining: 55.2s\n",
      "281:\tlearn: 0.0033301\ttotal: 1m 11s\tremaining: 54.9s\n",
      "282:\tlearn: 0.0033301\ttotal: 1m 11s\tremaining: 54.6s\n",
      "283:\tlearn: 0.0033301\ttotal: 1m 11s\tremaining: 54.3s\n",
      "284:\tlearn: 0.0033301\ttotal: 1m 11s\tremaining: 54s\n",
      "285:\tlearn: 0.0033301\ttotal: 1m 11s\tremaining: 53.7s\n",
      "286:\tlearn: 0.0033301\ttotal: 1m 11s\tremaining: 53.4s\n",
      "287:\tlearn: 0.0033301\ttotal: 1m 12s\tremaining: 53.1s\n",
      "288:\tlearn: 0.0033301\ttotal: 1m 12s\tremaining: 52.8s\n",
      "289:\tlearn: 0.0033301\ttotal: 1m 12s\tremaining: 52.5s\n",
      "290:\tlearn: 0.0033301\ttotal: 1m 12s\tremaining: 52.2s\n",
      "291:\tlearn: 0.0033301\ttotal: 1m 12s\tremaining: 51.9s\n",
      "292:\tlearn: 0.0033301\ttotal: 1m 13s\tremaining: 51.6s\n",
      "293:\tlearn: 0.0033301\ttotal: 1m 13s\tremaining: 51.3s\n",
      "294:\tlearn: 0.0033301\ttotal: 1m 13s\tremaining: 51s\n",
      "295:\tlearn: 0.0033301\ttotal: 1m 13s\tremaining: 50.7s\n",
      "296:\tlearn: 0.0033301\ttotal: 1m 13s\tremaining: 50.4s\n",
      "297:\tlearn: 0.0033301\ttotal: 1m 13s\tremaining: 50.1s\n",
      "298:\tlearn: 0.0033301\ttotal: 1m 14s\tremaining: 49.8s\n",
      "299:\tlearn: 0.0033301\ttotal: 1m 14s\tremaining: 49.5s\n",
      "300:\tlearn: 0.0033301\ttotal: 1m 14s\tremaining: 49.2s\n",
      "301:\tlearn: 0.0033301\ttotal: 1m 14s\tremaining: 48.9s\n",
      "302:\tlearn: 0.0033301\ttotal: 1m 14s\tremaining: 48.7s\n",
      "303:\tlearn: 0.0033301\ttotal: 1m 15s\tremaining: 48.4s\n",
      "304:\tlearn: 0.0033301\ttotal: 1m 15s\tremaining: 48.1s\n",
      "305:\tlearn: 0.0033301\ttotal: 1m 15s\tremaining: 47.8s\n",
      "306:\tlearn: 0.0033301\ttotal: 1m 15s\tremaining: 47.5s\n",
      "307:\tlearn: 0.0033300\ttotal: 1m 15s\tremaining: 47.2s\n",
      "308:\tlearn: 0.0033300\ttotal: 1m 15s\tremaining: 47s\n",
      "309:\tlearn: 0.0033300\ttotal: 1m 16s\tremaining: 46.7s\n",
      "310:\tlearn: 0.0033300\ttotal: 1m 16s\tremaining: 46.4s\n",
      "311:\tlearn: 0.0033300\ttotal: 1m 16s\tremaining: 46.1s\n",
      "312:\tlearn: 0.0033300\ttotal: 1m 16s\tremaining: 45.8s\n",
      "313:\tlearn: 0.0033300\ttotal: 1m 16s\tremaining: 45.5s\n",
      "314:\tlearn: 0.0033300\ttotal: 1m 17s\tremaining: 45.2s\n",
      "315:\tlearn: 0.0033300\ttotal: 1m 17s\tremaining: 44.9s\n",
      "316:\tlearn: 0.0033300\ttotal: 1m 17s\tremaining: 44.7s\n",
      "317:\tlearn: 0.0033300\ttotal: 1m 17s\tremaining: 44.4s\n",
      "318:\tlearn: 0.0033300\ttotal: 1m 17s\tremaining: 44.1s\n",
      "319:\tlearn: 0.0033300\ttotal: 1m 17s\tremaining: 43.8s\n",
      "320:\tlearn: 0.0033300\ttotal: 1m 18s\tremaining: 43.5s\n",
      "321:\tlearn: 0.0033300\ttotal: 1m 18s\tremaining: 43.2s\n",
      "322:\tlearn: 0.0033300\ttotal: 1m 18s\tremaining: 43s\n",
      "323:\tlearn: 0.0033300\ttotal: 1m 18s\tremaining: 42.7s\n",
      "324:\tlearn: 0.0033300\ttotal: 1m 18s\tremaining: 42.4s\n",
      "325:\tlearn: 0.0033300\ttotal: 1m 19s\tremaining: 42.2s\n",
      "326:\tlearn: 0.0033300\ttotal: 1m 19s\tremaining: 41.9s\n",
      "327:\tlearn: 0.0033300\ttotal: 1m 19s\tremaining: 41.6s\n",
      "328:\tlearn: 0.0033300\ttotal: 1m 19s\tremaining: 41.4s\n",
      "329:\tlearn: 0.0033300\ttotal: 1m 19s\tremaining: 41.1s\n",
      "330:\tlearn: 0.0033300\ttotal: 1m 19s\tremaining: 40.8s\n",
      "331:\tlearn: 0.0033300\ttotal: 1m 20s\tremaining: 40.5s\n",
      "332:\tlearn: 0.0033300\ttotal: 1m 20s\tremaining: 40.3s\n",
      "333:\tlearn: 0.0033300\ttotal: 1m 20s\tremaining: 40s\n",
      "334:\tlearn: 0.0033300\ttotal: 1m 20s\tremaining: 39.7s\n",
      "335:\tlearn: 0.0033300\ttotal: 1m 20s\tremaining: 39.5s\n",
      "336:\tlearn: 0.0033300\ttotal: 1m 20s\tremaining: 39.2s\n",
      "337:\tlearn: 0.0033300\ttotal: 1m 21s\tremaining: 38.9s\n",
      "338:\tlearn: 0.0033300\ttotal: 1m 21s\tremaining: 38.6s\n",
      "339:\tlearn: 0.0033300\ttotal: 1m 21s\tremaining: 38.3s\n",
      "340:\tlearn: 0.0033300\ttotal: 1m 21s\tremaining: 38.1s\n",
      "341:\tlearn: 0.0033300\ttotal: 1m 21s\tremaining: 37.8s\n",
      "342:\tlearn: 0.0033300\ttotal: 1m 21s\tremaining: 37.5s\n",
      "343:\tlearn: 0.0033300\ttotal: 1m 22s\tremaining: 37.2s\n",
      "344:\tlearn: 0.0033300\ttotal: 1m 22s\tremaining: 37s\n",
      "345:\tlearn: 0.0033300\ttotal: 1m 22s\tremaining: 36.7s\n",
      "346:\tlearn: 0.0033300\ttotal: 1m 22s\tremaining: 36.5s\n",
      "347:\tlearn: 0.0033300\ttotal: 1m 22s\tremaining: 36.2s\n",
      "348:\tlearn: 0.0033300\ttotal: 1m 23s\tremaining: 35.9s\n",
      "349:\tlearn: 0.0033300\ttotal: 1m 23s\tremaining: 35.6s\n",
      "350:\tlearn: 0.0033300\ttotal: 1m 23s\tremaining: 35.4s\n",
      "351:\tlearn: 0.0033300\ttotal: 1m 23s\tremaining: 35.1s\n",
      "352:\tlearn: 0.0033300\ttotal: 1m 23s\tremaining: 34.9s\n",
      "353:\tlearn: 0.0033300\ttotal: 1m 23s\tremaining: 34.6s\n",
      "354:\tlearn: 0.0033300\ttotal: 1m 24s\tremaining: 34.3s\n",
      "355:\tlearn: 0.0033300\ttotal: 1m 24s\tremaining: 34.1s\n",
      "356:\tlearn: 0.0033300\ttotal: 1m 24s\tremaining: 33.8s\n",
      "357:\tlearn: 0.0033300\ttotal: 1m 24s\tremaining: 33.5s\n",
      "358:\tlearn: 0.0033300\ttotal: 1m 24s\tremaining: 33.3s\n",
      "359:\tlearn: 0.0033300\ttotal: 1m 24s\tremaining: 33s\n",
      "360:\tlearn: 0.0033300\ttotal: 1m 25s\tremaining: 32.8s\n",
      "361:\tlearn: 0.0033300\ttotal: 1m 25s\tremaining: 32.5s\n",
      "362:\tlearn: 0.0033300\ttotal: 1m 25s\tremaining: 32.2s\n",
      "363:\tlearn: 0.0033300\ttotal: 1m 25s\tremaining: 32s\n",
      "364:\tlearn: 0.0033300\ttotal: 1m 25s\tremaining: 31.7s\n",
      "365:\tlearn: 0.0033300\ttotal: 1m 25s\tremaining: 31.5s\n",
      "366:\tlearn: 0.0033300\ttotal: 1m 26s\tremaining: 31.2s\n",
      "367:\tlearn: 0.0033300\ttotal: 1m 26s\tremaining: 30.9s\n",
      "368:\tlearn: 0.0033300\ttotal: 1m 26s\tremaining: 30.7s\n",
      "369:\tlearn: 0.0033300\ttotal: 1m 26s\tremaining: 30.5s\n",
      "370:\tlearn: 0.0033300\ttotal: 1m 26s\tremaining: 30.2s\n",
      "371:\tlearn: 0.0033300\ttotal: 1m 27s\tremaining: 30s\n",
      "372:\tlearn: 0.0033300\ttotal: 1m 27s\tremaining: 29.8s\n",
      "373:\tlearn: 0.0033300\ttotal: 1m 27s\tremaining: 29.5s\n",
      "374:\tlearn: 0.0033300\ttotal: 1m 27s\tremaining: 29.3s\n",
      "375:\tlearn: 0.0033300\ttotal: 1m 28s\tremaining: 29.1s\n",
      "376:\tlearn: 0.0033300\ttotal: 1m 28s\tremaining: 28.8s\n",
      "377:\tlearn: 0.0033300\ttotal: 1m 28s\tremaining: 28.6s\n",
      "378:\tlearn: 0.0033300\ttotal: 1m 28s\tremaining: 28.4s\n",
      "379:\tlearn: 0.0033300\ttotal: 1m 29s\tremaining: 28.1s\n",
      "380:\tlearn: 0.0033300\ttotal: 1m 29s\tremaining: 27.9s\n",
      "381:\tlearn: 0.0033300\ttotal: 1m 29s\tremaining: 27.6s\n",
      "382:\tlearn: 0.0033300\ttotal: 1m 29s\tremaining: 27.4s\n",
      "383:\tlearn: 0.0033300\ttotal: 1m 29s\tremaining: 27.1s\n",
      "384:\tlearn: 0.0033300\ttotal: 1m 29s\tremaining: 26.9s\n",
      "385:\tlearn: 0.0033300\ttotal: 1m 30s\tremaining: 26.6s\n",
      "386:\tlearn: 0.0033300\ttotal: 1m 30s\tremaining: 26.4s\n",
      "387:\tlearn: 0.0033300\ttotal: 1m 30s\tremaining: 26.1s\n",
      "388:\tlearn: 0.0033300\ttotal: 1m 30s\tremaining: 25.9s\n",
      "389:\tlearn: 0.0033300\ttotal: 1m 30s\tremaining: 25.6s\n",
      "390:\tlearn: 0.0033300\ttotal: 1m 31s\tremaining: 25.4s\n",
      "391:\tlearn: 0.0033300\ttotal: 1m 31s\tremaining: 25.1s\n",
      "392:\tlearn: 0.0033299\ttotal: 1m 31s\tremaining: 24.9s\n",
      "393:\tlearn: 0.0033299\ttotal: 1m 31s\tremaining: 24.6s\n",
      "394:\tlearn: 0.0033299\ttotal: 1m 31s\tremaining: 24.4s\n",
      "395:\tlearn: 0.0033299\ttotal: 1m 31s\tremaining: 24.1s\n",
      "396:\tlearn: 0.0033299\ttotal: 1m 32s\tremaining: 23.9s\n",
      "397:\tlearn: 0.0033299\ttotal: 1m 32s\tremaining: 23.7s\n",
      "398:\tlearn: 0.0033299\ttotal: 1m 32s\tremaining: 23.4s\n",
      "399:\tlearn: 0.0033299\ttotal: 1m 32s\tremaining: 23.2s\n",
      "400:\tlearn: 0.0033299\ttotal: 1m 32s\tremaining: 22.9s\n",
      "401:\tlearn: 0.0033299\ttotal: 1m 33s\tremaining: 22.7s\n",
      "402:\tlearn: 0.0033299\ttotal: 1m 33s\tremaining: 22.4s\n",
      "403:\tlearn: 0.0033299\ttotal: 1m 33s\tremaining: 22.2s\n",
      "404:\tlearn: 0.0033299\ttotal: 1m 33s\tremaining: 22s\n",
      "405:\tlearn: 0.0033299\ttotal: 1m 33s\tremaining: 21.8s\n",
      "406:\tlearn: 0.0033299\ttotal: 1m 34s\tremaining: 21.5s\n",
      "407:\tlearn: 0.0033299\ttotal: 1m 34s\tremaining: 21.3s\n",
      "408:\tlearn: 0.0033299\ttotal: 1m 34s\tremaining: 21.1s\n",
      "409:\tlearn: 0.0033299\ttotal: 1m 34s\tremaining: 20.8s\n",
      "410:\tlearn: 0.0033299\ttotal: 1m 35s\tremaining: 20.6s\n",
      "411:\tlearn: 0.0033299\ttotal: 1m 35s\tremaining: 20.4s\n",
      "412:\tlearn: 0.0033299\ttotal: 1m 35s\tremaining: 20.1s\n",
      "413:\tlearn: 0.0033299\ttotal: 1m 35s\tremaining: 19.9s\n",
      "414:\tlearn: 0.0033299\ttotal: 1m 36s\tremaining: 19.7s\n",
      "415:\tlearn: 0.0033299\ttotal: 1m 36s\tremaining: 19.4s\n",
      "416:\tlearn: 0.0033299\ttotal: 1m 36s\tremaining: 19.2s\n",
      "417:\tlearn: 0.0033299\ttotal: 1m 36s\tremaining: 19s\n",
      "418:\tlearn: 0.0033299\ttotal: 1m 36s\tremaining: 18.7s\n",
      "419:\tlearn: 0.0033299\ttotal: 1m 37s\tremaining: 18.5s\n",
      "420:\tlearn: 0.0033299\ttotal: 1m 37s\tremaining: 18.3s\n",
      "421:\tlearn: 0.0033299\ttotal: 1m 37s\tremaining: 18s\n",
      "422:\tlearn: 0.0033299\ttotal: 1m 37s\tremaining: 17.8s\n",
      "423:\tlearn: 0.0033299\ttotal: 1m 38s\tremaining: 17.6s\n",
      "424:\tlearn: 0.0033299\ttotal: 1m 38s\tremaining: 17.3s\n",
      "425:\tlearn: 0.0033299\ttotal: 1m 38s\tremaining: 17.1s\n",
      "426:\tlearn: 0.0033299\ttotal: 1m 38s\tremaining: 16.9s\n",
      "427:\tlearn: 0.0033299\ttotal: 1m 38s\tremaining: 16.6s\n",
      "428:\tlearn: 0.0033299\ttotal: 1m 39s\tremaining: 16.4s\n",
      "429:\tlearn: 0.0033299\ttotal: 1m 39s\tremaining: 16.2s\n",
      "430:\tlearn: 0.0033299\ttotal: 1m 39s\tremaining: 15.9s\n",
      "431:\tlearn: 0.0033299\ttotal: 1m 39s\tremaining: 15.7s\n",
      "432:\tlearn: 0.0033299\ttotal: 1m 40s\tremaining: 15.5s\n",
      "433:\tlearn: 0.0033299\ttotal: 1m 40s\tremaining: 15.2s\n",
      "434:\tlearn: 0.0033299\ttotal: 1m 40s\tremaining: 15s\n",
      "435:\tlearn: 0.0033299\ttotal: 1m 40s\tremaining: 14.8s\n",
      "436:\tlearn: 0.0033299\ttotal: 1m 40s\tremaining: 14.5s\n",
      "437:\tlearn: 0.0033299\ttotal: 1m 41s\tremaining: 14.3s\n",
      "438:\tlearn: 0.0033299\ttotal: 1m 41s\tremaining: 14.1s\n",
      "439:\tlearn: 0.0033299\ttotal: 1m 41s\tremaining: 13.8s\n",
      "440:\tlearn: 0.0033299\ttotal: 1m 41s\tremaining: 13.6s\n",
      "441:\tlearn: 0.0033299\ttotal: 1m 41s\tremaining: 13.4s\n",
      "442:\tlearn: 0.0033299\ttotal: 1m 42s\tremaining: 13.1s\n",
      "443:\tlearn: 0.0033299\ttotal: 1m 42s\tremaining: 12.9s\n",
      "444:\tlearn: 0.0033299\ttotal: 1m 42s\tremaining: 12.7s\n",
      "445:\tlearn: 0.0033299\ttotal: 1m 42s\tremaining: 12.4s\n",
      "446:\tlearn: 0.0033299\ttotal: 1m 42s\tremaining: 12.2s\n",
      "447:\tlearn: 0.0033299\ttotal: 1m 42s\tremaining: 12s\n",
      "448:\tlearn: 0.0033299\ttotal: 1m 43s\tremaining: 11.7s\n",
      "449:\tlearn: 0.0033299\ttotal: 1m 43s\tremaining: 11.5s\n",
      "450:\tlearn: 0.0033299\ttotal: 1m 43s\tremaining: 11.2s\n",
      "451:\tlearn: 0.0033299\ttotal: 1m 43s\tremaining: 11s\n",
      "452:\tlearn: 0.0033299\ttotal: 1m 43s\tremaining: 10.8s\n",
      "453:\tlearn: 0.0033299\ttotal: 1m 44s\tremaining: 10.5s\n",
      "454:\tlearn: 0.0033299\ttotal: 1m 44s\tremaining: 10.3s\n",
      "455:\tlearn: 0.0033299\ttotal: 1m 44s\tremaining: 10.1s\n",
      "456:\tlearn: 0.0033299\ttotal: 1m 44s\tremaining: 9.86s\n",
      "457:\tlearn: 0.0033299\ttotal: 1m 44s\tremaining: 9.63s\n",
      "458:\tlearn: 0.0033299\ttotal: 1m 45s\tremaining: 9.4s\n",
      "459:\tlearn: 0.0033299\ttotal: 1m 45s\tremaining: 9.17s\n",
      "460:\tlearn: 0.0033299\ttotal: 1m 45s\tremaining: 8.94s\n",
      "461:\tlearn: 0.0033299\ttotal: 1m 45s\tremaining: 8.71s\n",
      "462:\tlearn: 0.0033299\ttotal: 1m 46s\tremaining: 8.47s\n",
      "463:\tlearn: 0.0033299\ttotal: 1m 46s\tremaining: 8.24s\n",
      "464:\tlearn: 0.0033299\ttotal: 1m 46s\tremaining: 8.01s\n",
      "465:\tlearn: 0.0033299\ttotal: 1m 46s\tremaining: 7.77s\n",
      "466:\tlearn: 0.0033299\ttotal: 1m 46s\tremaining: 7.54s\n",
      "467:\tlearn: 0.0033299\ttotal: 1m 46s\tremaining: 7.31s\n",
      "468:\tlearn: 0.0033299\ttotal: 1m 47s\tremaining: 7.08s\n",
      "469:\tlearn: 0.0033299\ttotal: 1m 47s\tremaining: 6.85s\n",
      "470:\tlearn: 0.0033299\ttotal: 1m 47s\tremaining: 6.62s\n",
      "471:\tlearn: 0.0033299\ttotal: 1m 47s\tremaining: 6.39s\n",
      "472:\tlearn: 0.0033299\ttotal: 1m 48s\tremaining: 6.17s\n",
      "473:\tlearn: 0.0033299\ttotal: 1m 48s\tremaining: 5.94s\n",
      "474:\tlearn: 0.0033299\ttotal: 1m 48s\tremaining: 5.71s\n",
      "475:\tlearn: 0.0033299\ttotal: 1m 48s\tremaining: 5.48s\n",
      "476:\tlearn: 0.0033299\ttotal: 1m 48s\tremaining: 5.25s\n",
      "477:\tlearn: 0.0033299\ttotal: 1m 48s\tremaining: 5.01s\n",
      "478:\tlearn: 0.0033299\ttotal: 1m 49s\tremaining: 4.79s\n",
      "479:\tlearn: 0.0033299\ttotal: 1m 49s\tremaining: 4.55s\n",
      "480:\tlearn: 0.0033299\ttotal: 1m 49s\tremaining: 4.33s\n",
      "481:\tlearn: 0.0033299\ttotal: 1m 49s\tremaining: 4.1s\n",
      "482:\tlearn: 0.0033299\ttotal: 1m 49s\tremaining: 3.87s\n",
      "483:\tlearn: 0.0033299\ttotal: 1m 50s\tremaining: 3.64s\n",
      "484:\tlearn: 0.0033299\ttotal: 1m 50s\tremaining: 3.41s\n",
      "485:\tlearn: 0.0033299\ttotal: 1m 50s\tremaining: 3.18s\n",
      "486:\tlearn: 0.0033299\ttotal: 1m 50s\tremaining: 2.95s\n",
      "487:\tlearn: 0.0033299\ttotal: 1m 50s\tremaining: 2.72s\n",
      "488:\tlearn: 0.0033299\ttotal: 1m 50s\tremaining: 2.5s\n",
      "489:\tlearn: 0.0033299\ttotal: 1m 51s\tremaining: 2.27s\n",
      "490:\tlearn: 0.0033299\ttotal: 1m 51s\tremaining: 2.04s\n",
      "491:\tlearn: 0.0033299\ttotal: 1m 51s\tremaining: 1.81s\n",
      "492:\tlearn: 0.0033299\ttotal: 1m 51s\tremaining: 1.58s\n",
      "493:\tlearn: 0.0033299\ttotal: 1m 51s\tremaining: 1.36s\n",
      "494:\tlearn: 0.0033299\ttotal: 1m 52s\tremaining: 1.13s\n",
      "495:\tlearn: 0.0033299\ttotal: 1m 52s\tremaining: 905ms\n",
      "496:\tlearn: 0.0033299\ttotal: 1m 52s\tremaining: 678ms\n",
      "497:\tlearn: 0.0033299\ttotal: 1m 52s\tremaining: 452ms\n",
      "498:\tlearn: 0.0033299\ttotal: 1m 52s\tremaining: 226ms\n",
      "499:\tlearn: 0.0033299\ttotal: 1m 52s\tremaining: 0us\n"
     ]
    },
    {
     "data": {
      "text/plain": [
       "<catboost.core.CatBoostClassifier at 0x17bb6f34220>"
      ]
     },
     "execution_count": 22,
     "metadata": {},
     "output_type": "execute_result"
    }
   ],
   "source": [
    "params = {'learning_rate':0.08,\n",
    "         'max_leaves':31,CatBoostClassifier\n",
    "         'n_estimators':500,\n",
    "'bagging_temperature':0.48}\n",
    "\n",
    "cb = (**params)\n",
    "cb.fit(X_train_smote, y_train_smote)"
   ]
  },
  {
   "cell_type": "code",
   "execution_count": 23,
   "metadata": {},
   "outputs": [
    {
     "name": "stdout",
     "output_type": "stream",
     "text": [
      "CBC accuracy:  99.94864688047386 %\n",
      "CBC auc:  0.9994864839702897\n"
     ]
    }
   ],
   "source": [
    "preds_cb = cb.predict(X_test_smote)\n",
    "print('CBC accuracy: ', accuracy_score(y_test_smote, preds_cb)*100, '%')\n",
    "\n",
    "print('CBC auc: ', roc_auc_score(y_test_smote, preds_cb))"
   ]
  },
  {
   "cell_type": "markdown",
   "metadata": {},
   "source": [
    "After rigorous training on random forest with default and hypertuned parameters we come to conclusion that when we dont incorporate cross validation and gradient boosting our default random forest classifier performs the best on the dataset and gives test AUC score of 0.99995."
   ]
  },
  {
   "cell_type": "code",
   "execution_count": 18,
   "metadata": {},
   "outputs": [
    {
     "data": {
      "text/plain": [
       "(284798, 35)"
      ]
     },
     "execution_count": 18,
     "metadata": {},
     "output_type": "execute_result"
    }
   ],
   "source": [
    "df.shape"
   ]
  },
  {
   "cell_type": "code",
   "execution_count": 16,
   "metadata": {},
   "outputs": [],
   "source": [
    "X = df.drop('Class', axis=1)\n",
    "y = df['Class']"
   ]
  },
  {
   "cell_type": "code",
   "execution_count": 19,
   "metadata": {},
   "outputs": [
    {
     "data": {
      "text/plain": [
       "(284798, 34)"
      ]
     },
     "execution_count": 19,
     "metadata": {},
     "output_type": "execute_result"
    }
   ],
   "source": [
    "X.shape"
   ]
  },
  {
   "cell_type": "code",
   "execution_count": 20,
   "metadata": {},
   "outputs": [
    {
     "data": {
      "text/plain": [
       "(284798,)"
      ]
     },
     "execution_count": 20,
     "metadata": {},
     "output_type": "execute_result"
    }
   ],
   "source": [
    "y.shape"
   ]
  },
  {
   "cell_type": "code",
   "execution_count": 21,
   "metadata": {},
   "outputs": [],
   "source": [
    "import time"
   ]
  },
  {
   "cell_type": "markdown",
   "metadata": {},
   "source": [
    "#### Creating a function to ease up the process of splitting the datset ."
   ]
  },
  {
   "cell_type": "code",
   "execution_count": 22,
   "metadata": {},
   "outputs": [],
   "source": [
    "TARGET_COL = ['Class']\n",
    "def split_df_and_get_features(df, train_nrows, TARGET_COL):\n",
    "\n",
    "    train, test = df[:train_nrows].reset_index(drop = True), df[train_nrows:].reset_index(drop = True)\n",
    "    features = [c for c in train.columns if c not in [TARGET_COL]]\n",
    "  \n",
    "    return train, test, features"
   ]
  },
  {
   "cell_type": "code",
   "execution_count": 26,
   "metadata": {},
   "outputs": [
    {
     "name": "stdout",
     "output_type": "stream",
     "text": [
      "(568612, 34) (568612,)\n"
     ]
    }
   ],
   "source": [
    "print(X_smote.shape, y_smote.shape)"
   ]
  },
  {
   "cell_type": "markdown",
   "metadata": {},
   "source": [
    "# CROSS VALIDATION"
   ]
  },
  {
   "cell_type": "markdown",
   "metadata": {},
   "source": [
    "We will use StratifiedKFold for validation purpose with 5 splits , for LightGBM & CatBoost respectively ."
   ]
  },
  {
   "cell_type": "code",
   "execution_count": 27,
   "metadata": {},
   "outputs": [
    {
     "name": "stdout",
     "output_type": "stream",
     "text": [
      "Training until validation scores don't improve for 100 rounds\n",
      "[200]\tvalid_0's binary_logloss: 0.0381158\n",
      "Early stopping, best iteration is:\n",
      "[118]\tvalid_0's binary_logloss: 0.00228167\n",
      "1  err_lgm:  0.9997186145282836\n",
      "Training until validation scores don't improve for 100 rounds\n",
      "[200]\tvalid_0's binary_logloss: 0.00125077\n",
      "[400]\tvalid_0's binary_logloss: 0.000867846\n",
      "[600]\tvalid_0's binary_logloss: 0.000707642\n",
      "[800]\tvalid_0's binary_logloss: 0.000688213\n",
      "[1000]\tvalid_0's binary_logloss: 0.000683043\n",
      "Did not meet early stopping. Best iteration is:\n",
      "[990]\tvalid_0's binary_logloss: 0.000681284\n",
      "2  err_lgm:  0.9999120670400886\n",
      "Training until validation scores don't improve for 100 rounds\n",
      "[200]\tvalid_0's binary_logloss: 0.00167219\n",
      "Early stopping, best iteration is:\n",
      "[227]\tvalid_0's binary_logloss: 0.00164825\n",
      "3  err_lgm:  0.9998153391604088\n",
      "Training until validation scores don't improve for 100 rounds\n",
      "[200]\tvalid_0's binary_logloss: 0.0427205\n",
      "Early stopping, best iteration is:\n",
      "[111]\tvalid_0's binary_logloss: 0.003324\n",
      "4  err_lgm:  0.9997537855472116\n",
      "Training until validation scores don't improve for 100 rounds\n",
      "[200]\tvalid_0's binary_logloss: 0.000910422\n",
      "Early stopping, best iteration is:\n",
      "[220]\tvalid_0's binary_logloss: 0.000900492\n",
      "5  err_lgm:  0.999859306026978\n",
      "Wall time: 2min 14s\n"
     ]
    },
    {
     "data": {
      "text/plain": [
       "0.9998118225533748"
      ]
     },
     "execution_count": 27,
     "metadata": {},
     "output_type": "execute_result"
    }
   ],
   "source": [
    "%%time\n",
    "err = [] \n",
    "\n",
    "fold = StratifiedKFold(n_splits=5, shuffle=True, random_state=2020)\n",
    "i = 1\n",
    "\n",
    "for train_index, test_index in fold.split(X_smote, y_smote):\n",
    "    x_train, x_val = X_smote.iloc[train_index], X_smote.iloc[test_index]\n",
    "    y_train, y_val = y_smote.iloc[train_index], y_smote.iloc[test_index]\n",
    "    m = LGBMClassifier(random_state=42, n_estimators=1000, learning_rate=0.1)\n",
    "    m.fit(x_train, y_train , eval_set=[(x_val,y_val)], early_stopping_rounds=100, verbose=200)\n",
    "    pred_y = m.predict(x_val)\n",
    "    print(i, \" err_lgm: \", metrics.accuracy_score(y_val,pred_y))\n",
    "    err.append(metrics.roc_auc_score(y_val,pred_y))\n",
    "    i = i + 1\n",
    "sum(err)/5"
   ]
  },
  {
   "cell_type": "code",
   "execution_count": 29,
   "metadata": {},
   "outputs": [
    {
     "name": "stdout",
     "output_type": "stream",
     "text": [
      "Training until validation scores don't improve for 100 rounds\n",
      "Early stopping, best iteration is:\n",
      "[82]\tvalid_0's binary_logloss: 0.00266268\n",
      "1  err_lgm:  0.9997098212322925\n",
      "Training until validation scores don't improve for 100 rounds\n",
      "[200]\tvalid_0's binary_logloss: 0.000568441\n",
      "Early stopping, best iteration is:\n",
      "[292]\tvalid_0's binary_logloss: 0.000541861\n",
      "2  err_lgm:  0.9999296536320709\n",
      "Training until validation scores don't improve for 100 rounds\n",
      "[200]\tvalid_0's binary_logloss: 0.00157401\n",
      "Early stopping, best iteration is:\n",
      "[180]\tvalid_0's binary_logloss: 0.00156067\n",
      "3  err_lgm:  0.9998329259070364\n",
      "Training until validation scores don't improve for 100 rounds\n",
      "[200]\tvalid_0's binary_logloss: 0.218998\n",
      "Early stopping, best iteration is:\n",
      "[121]\tvalid_0's binary_logloss: 0.000748174\n",
      "4  err_lgm:  0.9998856861469196\n",
      "Training until validation scores don't improve for 100 rounds\n",
      "[200]\tvalid_0's binary_logloss: 0.00085875\n",
      "Early stopping, best iteration is:\n",
      "[194]\tvalid_0's binary_logloss: 0.000852425\n",
      "5  err_lgm:  0.999859306026978\n",
      "Wall time: 1min 48s\n"
     ]
    },
    {
     "data": {
      "text/plain": [
       "0.9998434787591626"
      ]
     },
     "execution_count": 29,
     "metadata": {},
     "output_type": "execute_result"
    }
   ],
   "source": [
    "%%time\n",
    "err = [] \n",
    "\n",
    "fold = StratifiedKFold(n_splits=5, shuffle=True, random_state=2020)\n",
    "i = 1\n",
    "\n",
    "for train_index, test_index in fold.split(X_smote, y_smote):\n",
    "    x_train, x_val = X_smote.iloc[train_index], X_smote.iloc[test_index]\n",
    "    y_train, y_val = y_smote.iloc[train_index], y_smote.iloc[test_index]\n",
    "    m = LGBMClassifier(random_state=42, n_estimators=1000, learning_rate=0.1, num_leaves=50)\n",
    "    m.fit(x_train, y_train , eval_set=[(x_val,y_val)], early_stopping_rounds=100, verbose=200)\n",
    "    pred_y = m.predict(x_val)\n",
    "    print(i, \" err_lgm: \", metrics.accuracy_score(y_val,pred_y))\n",
    "    err.append(metrics.roc_auc_score(y_val,pred_y))\n",
    "    i = i + 1\n",
    "sum(err)/5"
   ]
  },
  {
   "cell_type": "code",
   "execution_count": 31,
   "metadata": {},
   "outputs": [
    {
     "name": "stdout",
     "output_type": "stream",
     "text": [
      "Training until validation scores don't improve for 100 rounds\n",
      "[200]\tvalid_0's binary_logloss: 0.00255454\n",
      "Early stopping, best iteration is:\n",
      "[288]\tvalid_0's binary_logloss: 0.00245483\n",
      "1  err_lgm:  0.9998241340801772\n",
      "Training until validation scores don't improve for 100 rounds\n",
      "[200]\tvalid_0's binary_logloss: 0.0356133\n",
      "Early stopping, best iteration is:\n",
      "[107]\tvalid_0's binary_logloss: 0.00259948\n",
      "2  err_lgm:  0.999736201120266\n",
      "Training until validation scores don't improve for 100 rounds\n",
      "[200]\tvalid_0's binary_logloss: 0.00098422\n",
      "[400]\tvalid_0's binary_logloss: 0.000783352\n",
      "[600]\tvalid_0's binary_logloss: 0.000754321\n",
      "Early stopping, best iteration is:\n",
      "[588]\tvalid_0's binary_logloss: 0.000752573\n",
      "3  err_lgm:  0.999929653013489\n",
      "Training until validation scores don't improve for 100 rounds\n",
      "[200]\tvalid_0's binary_logloss: 0.002281\n",
      "Early stopping, best iteration is:\n",
      "[221]\tvalid_0's binary_logloss: 0.00225975\n",
      "4  err_lgm:  0.9998065457870948\n",
      "Training until validation scores don't improve for 100 rounds\n",
      "[200]\tvalid_0's binary_logloss: 0.0526876\n",
      "Early stopping, best iteration is:\n",
      "[101]\tvalid_0's binary_logloss: 0.00236209\n",
      "5  err_lgm:  0.9997098186806422\n",
      "Wall time: 1min 57s\n"
     ]
    },
    {
     "data": {
      "text/plain": [
       "0.9998012968770913"
      ]
     },
     "execution_count": 31,
     "metadata": {},
     "output_type": "execute_result"
    }
   ],
   "source": [
    "%%time\n",
    "err = [] \n",
    "\n",
    "fold = KFold(n_splits=5, shuffle=True, random_state=2020)\n",
    "i = 1\n",
    "\n",
    "for train_index, test_index in fold.split(X_smote, y_smote):\n",
    "    x_train, x_val = X_smote.iloc[train_index], X_smote.iloc[test_index]\n",
    "    y_train, y_val = y_smote.iloc[train_index], y_smote.iloc[test_index]\n",
    "    m = LGBMClassifier(random_state=42, n_estimators=1000, learning_rate=0.1)\n",
    "    m.fit(x_train, y_train , eval_set=[(x_val,y_val)], early_stopping_rounds=100, verbose=200)\n",
    "    pred_y = m.predict(x_val)\n",
    "    print(i, \" err_lgm: \", metrics.accuracy_score(y_val,pred_y))\n",
    "    err.append(metrics.roc_auc_score(y_val,pred_y))\n",
    "    i = i + 1\n",
    "sum(err)/5"
   ]
  },
  {
   "cell_type": "code",
   "execution_count": 33,
   "metadata": {
    "scrolled": true
   },
   "outputs": [
    {
     "name": "stdout",
     "output_type": "stream",
     "text": [
      "0:\tlearn: 0.5284696\ttest: 0.5284277\tbest: 0.5284277 (0)\ttotal: 344ms\tremaining: 5m 43s\n",
      "200:\tlearn: 0.0032770\ttest: 0.0036679\tbest: 0.0036679 (200)\ttotal: 30.5s\tremaining: 2m 1s\n",
      "400:\tlearn: 0.0027996\ttest: 0.0032125\tbest: 0.0032125 (310)\ttotal: 55.4s\tremaining: 1m 22s\n",
      "Stopped by overfitting detector  (100 iterations wait)\n",
      "\n",
      "bestTest = 0.003212492082\n",
      "bestIteration = 310\n",
      "\n",
      "Shrink model to first 311 iterations.\n",
      "1  err_lgm:  0.9996306815683723\n",
      "0:\tlearn: 0.5280089\ttest: 0.5279658\tbest: 0.5279658 (0)\ttotal: 219ms\tremaining: 3m 38s\n",
      "200:\tlearn: 0.0032851\ttest: 0.0032744\tbest: 0.0032744 (200)\ttotal: 30s\tremaining: 1m 59s\n",
      "Stopped by overfitting detector  (100 iterations wait)\n",
      "\n",
      "bestTest = 0.002712792018\n",
      "bestIteration = 272\n",
      "\n",
      "Shrink model to first 273 iterations.\n",
      "2  err_lgm:  0.9997625810082393\n",
      "0:\tlearn: 0.5278429\ttest: 0.5278613\tbest: 0.5278613 (0)\ttotal: 162ms\tremaining: 2m 42s\n",
      "200:\tlearn: 0.0033803\ttest: 0.0041004\tbest: 0.0041004 (200)\ttotal: 31.7s\tremaining: 2m 5s\n",
      "400:\tlearn: 0.0018625\ttest: 0.0025478\tbest: 0.0025478 (400)\ttotal: 56.3s\tremaining: 1m 24s\n",
      "600:\tlearn: 0.0016289\ttest: 0.0023127\tbest: 0.0023127 (597)\ttotal: 1m 20s\tremaining: 53.1s\n",
      "800:\tlearn: 0.0016066\ttest: 0.0022863\tbest: 0.0022863 (799)\ttotal: 1m 44s\tremaining: 25.9s\n",
      "999:\tlearn: 0.0014614\ttest: 0.0021394\tbest: 0.0021394 (999)\ttotal: 2m 8s\tremaining: 0us\n",
      "\n",
      "bestTest = 0.002139362507\n",
      "bestIteration = 999\n",
      "\n",
      "3  err_lgm:  0.9997186120539562\n",
      "0:\tlearn: 0.5272887\ttest: 0.5276021\tbest: 0.5276021 (0)\ttotal: 230ms\tremaining: 3m 50s\n",
      "200:\tlearn: 0.0035900\ttest: 0.0036533\tbest: 0.0036533 (199)\ttotal: 28.7s\tremaining: 1m 53s\n",
      "400:\tlearn: 0.0035615\ttest: 0.0036282\tbest: 0.0036282 (362)\ttotal: 49.5s\tremaining: 1m 13s\n",
      "Stopped by overfitting detector  (100 iterations wait)\n",
      "\n",
      "bestTest = 0.003628217376\n",
      "bestIteration = 362\n",
      "\n",
      "Shrink model to first 363 iterations.\n",
      "4  err_lgm:  0.999657058440759\n",
      "0:\tlearn: 0.5275281\ttest: 0.5274910\tbest: 0.5274910 (0)\ttotal: 206ms\tremaining: 3m 25s\n",
      "200:\tlearn: 0.0032133\ttest: 0.0036263\tbest: 0.0036263 (200)\ttotal: 28.6s\tremaining: 1m 53s\n",
      "Stopped by overfitting detector  (100 iterations wait)\n",
      "\n",
      "bestTest = 0.00353160319\n",
      "bestIteration = 224\n",
      "\n",
      "Shrink model to first 225 iterations.\n",
      "5  err_lgm:  0.9995427445876788\n",
      "Wall time: 5min 39s\n"
     ]
    },
    {
     "data": {
      "text/plain": [
       "0.9996623357637577"
      ]
     },
     "execution_count": 33,
     "metadata": {},
     "output_type": "execute_result"
    }
   ],
   "source": [
    "%%time\n",
    "err = [] \n",
    "\n",
    "fold = StratifiedKFold(n_splits=5, shuffle=True, random_state=2020)\n",
    "i = 1\n",
    "\n",
    "for train_index, test_index in fold.split(X_smote, y_smote):\n",
    "    x_train, x_val = X_smote.iloc[train_index], X_smote.iloc[test_index]\n",
    "    y_train, y_val = y_smote.iloc[train_index], y_smote.iloc[test_index]\n",
    "    model = CatBoostClassifier(random_state=42, n_estimators=1000, learning_rate=0.08,max_leaves=31,bagging_temperature=0.48)\n",
    "    model.fit(x_train, y_train , eval_set=[(x_val,y_val)], early_stopping_rounds=100, verbose=200)\n",
    "    pred_y = model.predict(x_val)\n",
    "    print(i, \" err_lgm: \", metrics.accuracy_score(y_val,pred_y))\n",
    "    err.append(metrics.roc_auc_score(y_val,pred_y))\n",
    "    i = i + 1\n",
    "sum(err)/5"
   ]
  },
  {
   "cell_type": "code",
   "execution_count": 2,
   "metadata": {},
   "outputs": [
    {
     "name": "stdout",
     "output_type": "stream",
     "text": [
      "Requirement already satisfied: xlsxwriter in c:\\users\\lenovo\\anaconda3-new\\lib\\site-packages (1.3.7)\n"
     ]
    }
   ],
   "source": [
    "!pip install xlsxwriter"
   ]
  },
  {
   "cell_type": "code",
   "execution_count": 44,
   "metadata": {},
   "outputs": [],
   "source": [
    "df.to_excel(r'C:\\Users\\LENOVO\\Desktop\\df.xlsx', engine='xlsxwriter')"
   ]
  },
  {
   "cell_type": "code",
   "execution_count": 45,
   "metadata": {},
   "outputs": [
    {
     "data": {
      "text/plain": [
       "Index(['Time', 'V1', 'V2', 'V3', 'V4', 'V5', 'V6', 'V7', 'V8', 'V9', 'V10',\n",
       "       'V11', 'V12', 'V13', 'V14', 'V15', 'V16', 'V17', 'V18', 'V19', 'V20',\n",
       "       'V21', 'V22', 'V23', 'V24', 'V25', 'V26', 'V27', 'V28', 'Amount',\n",
       "       'Class', 'average', 'min', 'time_difference', 'cond'],\n",
       "      dtype='object')"
      ]
     },
     "execution_count": 45,
     "metadata": {},
     "output_type": "execute_result"
    }
   ],
   "source": [
    "df.columns"
   ]
  },
  {
   "cell_type": "markdown",
   "metadata": {},
   "source": [
    "Thank You"
   ]
  }
 ],
 "metadata": {
  "kernelspec": {
   "display_name": "Python 3",
   "language": "python",
   "name": "python3"
  },
  "language_info": {
   "codemirror_mode": {
    "name": "ipython",
    "version": 3
   },
   "file_extension": ".py",
   "mimetype": "text/x-python",
   "name": "python",
   "nbconvert_exporter": "python",
   "pygments_lexer": "ipython3",
   "version": "3.8.5"
  }
 },
 "nbformat": 4,
 "nbformat_minor": 4
}
